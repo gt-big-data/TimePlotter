{
 "cells": [
  {
   "cell_type": "raw",
   "metadata": {},
   "source": [
    "This notebook will do the following:\n",
    "    1) Initialize 3D coordinates from adjacency matrix. \n",
    "    2) Efficiently convert 3D coordinated to adjacency matrix. \n",
    "    3) Efficiently evaluate RMSE between original adj matrix values and \n",
    "    4) Implement optimization algorithm for moving 3D coordinates to minimize objective function (loss).\n",
    "        a) probably SGD\n",
    "        b) genetic algorithms\n",
    "    5) Run optimization algorithm on dataset and store each intermediate 3D coordinates\n",
    "    6) Evaluate performance "
   ]
  },
  {
   "cell_type": "code",
   "execution_count": 1,
   "metadata": {},
   "outputs": [],
   "source": [
    "import pandas as pd\n",
    "import numpy as np\n",
    "import time as t\n",
    "import datetime\n",
    "import itertools\n",
    "import os\n",
    "from scipy.sparse import lil_matrix"
   ]
  },
  {
   "cell_type": "code",
   "execution_count": 2,
   "metadata": {},
   "outputs": [],
   "source": [
    "# this is a numpy matrix of size (2, num_vertex) which is populated by the average\n",
    "location_matrix = np.array([[33.776360,33.772428],[-84.397824,-84.392709]])\n",
    "\n",
    "# number of vertices\n",
    "num_vertex = location_matrix.shape[1]\n",
    "\n",
    "# this is a numpy matrix of size (num_vertex, 2) which is populated by time between each location\n",
    "adjacency_matrix = lil_matrix((num_vertex,num_vertex), dtype = np.float32)"
   ]
  },
  {
   "cell_type": "code",
   "execution_count": 3,
   "metadata": {},
   "outputs": [],
   "source": [
    "# convert adjacency_matrix to an initial \"guess\" at 3D coordinates. We want 3D coordinates to have minimal Z components\n",
    "# please make Z = 0 for all points, and all x and y be seperated by average time difference (this is for mesh input)\n",
    "\n",
    "def initialize_coordinates(adjacency_matrix):\n",
    "    coordinates = np.zeros(shape = (adjacency_matrix.shape[1], 3))\n",
    "    \n",
    "    raise NotImplementedError()\n",
    "    \n",
    "    return coordinates"
   ]
  },
  {
   "cell_type": "code",
   "execution_count": 4,
   "metadata": {},
   "outputs": [],
   "source": [
    "# take 3D coordinates and original adjacency_matrix and return RMSE \n",
    "\n",
    "def rmse(coordinates, adjacency_matrix):\n",
    "    RMSE = 0\n",
    "    \n",
    "    raise NotImplementedError()\n",
    "    \n",
    "    return RMSE"
   ]
  },
  {
   "cell_type": "code",
   "execution_count": 5,
   "metadata": {},
   "outputs": [],
   "source": [
    "# take 3D coordinates and original adjacency_matrix and return new adjacency_matrix\n",
    "\n",
    "def coordinates_adjacency(coordinates, old_adjacency_matrix):\n",
    "    \n",
    "    raise NotImplementedError()\n",
    "    \n",
    "    return adjacency_matrix"
   ]
  },
  {
   "cell_type": "code",
   "execution_count": 6,
   "metadata": {},
   "outputs": [],
   "source": [
    "# take 3D coordinates and return updated 3D coordinates using SGD\n",
    "\n",
    "np.random.seed(123)\n",
    "\n",
    "def sgd(coordinates, adjacency_matrix):\n",
    "    \n",
    "    raise NotImplementedError()\n",
    "    \n",
    "    return new_coordinates"
   ]
  },
  {
   "cell_type": "code",
   "execution_count": 8,
   "metadata": {},
   "outputs": [],
   "source": [
    "# run full simulation and return lists of coordinates and rmse\n",
    "\n",
    "def simulation(adjacency_matrix, num_iterations = 1000):\n",
    "    \n",
    "    coordinates_ls, rmse_ls = [], []\n",
    "    \n",
    "    # initialize coordinates and rmse\n",
    "    coordinates_ls.append(initialize_coordinates(adjacency_matrix))\n",
    "    rmse_ls.append(rmse(coordinates_ls[-1], adjacency_matrix))\n",
    "    \n",
    "    # continue to add coordinates and rmse\n",
    "    for i in range(num_iterations):\n",
    "        coordinates_ls.append(sgd(coordinates_ls[-1], adjacency_matrix))\n",
    "        rmse_ls.append(rmse(coordinates_ls[-1], adjacency_matrix))\n",
    "    \n",
    "    return coordinates_ls, rmse_ls"
   ]
  },
  {
   "cell_type": "code",
   "execution_count": null,
   "metadata": {},
   "outputs": [],
   "source": [
    "# dump the simulation into a pandas df and then a csv (not done yet)\n",
    "\n",
    "simulation(adjacency_matrix)\n",
    "\n",
    "d = {\"rmse\":,\n",
    "    \"x\":,\n",
    "    \"y\":,\n",
    "    \"z\":}\n",
    "\n",
    "df = pd.DataFrame(d)\n",
    "path = os.path.join(os.getcwd(), \"..\")\n",
    "path = os.path.join(path, \"dataset\")\n",
    "path = os.path.join(path, \"simulation.csv\")\n",
    "df.to_csv(path)"
   ]
  }
 ],
 "metadata": {
  "kernelspec": {
   "display_name": "Python 3",
   "language": "python",
   "name": "python3"
  },
  "language_info": {
   "codemirror_mode": {
    "name": "ipython",
    "version": 3
   },
   "file_extension": ".py",
   "mimetype": "text/x-python",
   "name": "python",
   "nbconvert_exporter": "python",
   "pygments_lexer": "ipython3",
   "version": "3.7.3"
  }
 },
 "nbformat": 4,
 "nbformat_minor": 2
}
