{
 "cells": [
  {
   "cell_type": "code",
   "execution_count": 11,
   "metadata": {},
   "outputs": [],
   "source": [
    "import urllib.request as urllib2\n",
    "import json\n",
    "import csv\n",
    "import time\n",
    "import datetime"
   ]
  },
  {
   "cell_type": "code",
   "execution_count": 12,
   "metadata": {},
   "outputs": [],
   "source": [
    "\"\"\"\n",
    "INPUTS:\n",
    "    url: a request url\n",
    "OUTPUTS: \n",
    "    the data returned by calling that url\n",
    "\"\"\"\n",
    "def request_data_from_url(url):\n",
    "    req = urllib2.Request(url)\n",
    "    success = False\n",
    "    while success is False:\n",
    "        try: \n",
    "            #open the url\n",
    "            response = urllib2.urlopen(req)\n",
    "            \n",
    "            #200 is the success code for http\n",
    "            if response.getcode() == 200:\n",
    "                success = True\n",
    "        except Exception as e:\n",
    "            #if we didn't get a success, then print the error and wait 5 seconds before trying again\n",
    "            print(e)\n",
    "            time.sleep(5)\n",
    "\n",
    "            print(\"Error for URL %s: %s\" % (url, datetime.datetime.now()))\n",
    "            print(\"Retrying...\")\n",
    "\n",
    "    #return the contents of the response\n",
    "    return response.read()"
   ]
  },
  {
   "cell_type": "code",
   "execution_count": 13,
   "metadata": {},
   "outputs": [],
   "source": [
    "\"\"\"\n",
    "INPUTS:\n",
    "    api_key: authentication to GMaps that we're allowed to request this data\n",
    "    origin: lat,long of origin\n",
    "    destination: lat,long of destination\n",
    "    frequency: how often to scrape the data\n",
    "    duration: how long to scrape the data\n",
    "OUTPUTS:\n",
    "    nothing, simply continues to write data to spreadsheet\n",
    "\"\"\"\n",
    "def scrape_gmaps_data(api_key, origin, destination, frequency, duration):\n",
    "    \n",
    "    #we want to scrape the googlemaps website\n",
    "    site = 'https://maps.googleapis.com/maps/api/'\n",
    "    \n",
    "    #we want to use the distancematrix service\n",
    "    service = 'distancematrix/json?'\n",
    "    \n",
    "    #input origin and destination from the user \n",
    "    locations = 'origins=%s&destinations=%s&departure_time=now&' % (origin, destination)\n",
    "    \n",
    "    #input api key from user\n",
    "    key = 'key=%s' % (api_key)\n",
    "    \n",
    "    #construct request url\n",
    "    request_url = site + service + locations + key\n",
    "    \n",
    "    with open('traffic_data.csv', 'w') as file:\n",
    "        #let w represent our file\n",
    "        w = csv.writer(file)\n",
    "        \n",
    "        #write the header row\n",
    "        w.writerow([\"timestamp\", \"travel_time\"])\n",
    "        \n",
    "        #get the travel time at regular intervals\n",
    "        step = 1\n",
    "        while (step <= int(duration*60 / frequency)):\n",
    "            #convert response to python dictionary \n",
    "            data = json.loads(request_data_from_url(request_url))\n",
    "            \n",
    "            #extract travel time from response\n",
    "            traffic_time = data['rows'][0]['elements'][0]['duration_in_traffic']['value']\n",
    "            \n",
    "            #write to our spreadsheet\n",
    "            w.writerow((datetime.datetime.now(), traffic_time))\n",
    "            if step % 10 == 0:\n",
    "                print(str(step) + ' datapoints gathered ...')\n",
    "            \n",
    "            step += 1\n",
    "            time.sleep(frequency*60)"
   ]
  },
  {
   "cell_type": "code",
   "execution_count": null,
   "metadata": {},
   "outputs": [],
   "source": [
    "with open(\"supersecretapikey.txt\",\"r\") as fh:\n",
    "    api_key = fh.readlines()[0]\n",
    "origin = '34.070243,-118.436293' #UCLA\n",
    "destination = '32.881266,-117.233290' #UCSD\n",
    "frequency = 1\n",
    "duration = 2/60\n",
    "\n",
    "if __name__ == '__main__':\n",
    "    scrape_gmaps_data(api_key, origin, destination, frequency, duration)"
   ]
  },
  {
   "cell_type": "code",
   "execution_count": null,
   "metadata": {},
   "outputs": [],
   "source": []
  },
  {
   "cell_type": "code",
   "execution_count": null,
   "metadata": {},
   "outputs": [],
   "source": []
  }
 ],
 "metadata": {
  "anaconda-cloud": {},
  "kernelspec": {
   "display_name": "Python 3",
   "language": "python",
   "name": "python3"
  },
  "language_info": {
   "codemirror_mode": {
    "name": "ipython",
    "version": 3
   },
   "file_extension": ".py",
   "mimetype": "text/x-python",
   "name": "python",
   "nbconvert_exporter": "python",
   "pygments_lexer": "ipython3",
   "version": "3.6.5"
  }
 },
 "nbformat": 4,
 "nbformat_minor": 1
}
